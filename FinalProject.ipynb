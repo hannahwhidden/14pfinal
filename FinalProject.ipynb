{
 "cells": [
  {
   "cell_type": "markdown",
   "metadata": {},
   "source": [
    "# Final Project\n"
   ]
  },
  {
   "cell_type": "code",
   "execution_count": 1,
   "metadata": {},
   "outputs": [],
   "source": [
    "import numpy as np \n",
    "from numpy import random \n",
    "import sounddevice as sd\n",
    "from matplotlib import pyplot as plt\n",
    "rng = random.default_rng(seed = 1111)"
   ]
  },
  {
   "cell_type": "code",
   "execution_count": 2,
   "metadata": {},
   "outputs": [],
   "source": [
    "def make_tone(f,duration,sr = 44100,ramp = 200):\n",
    "    time_vec = np.linspace(0, duration, int(duration*sr)) \n",
    "    tone = np.sin(f * time_vec  * 2 * np.pi)\n",
    "    risingramp = np.linspace(0,1,ramp)\n",
    "    descendingramp = np.linspace(1,0,ramp)\n",
    "    tone[0:ramp] = tone[0:ramp]*risingramp\n",
    "    tone[-ramp:] = tone[-ramp:]*descendingramp\n",
    "    return tone\n",
    "\n",
    "def play_sound(tone,volume = 0.05,sr = 44100):\n",
    "    tone  = volume*tone/np.max(np.abs(tone)) \n",
    "    tone = 32768*tone \n",
    "    tone  = tone.astype(np.int16)  \n",
    "    sd.play(tone , sr,blocking=True) \n",
    "\n",
    "duration = 0.5 \n",
    "f_A = 440       \n",
    "A_note = make_tone(f_A,duration)\n",
    "df= f_A *0.15\n",
    "f_B = f_A +df     \n",
    "B_note = make_tone(f_B,duration)    "
   ]
  }
 ],
 "metadata": {
  "kernelspec": {
   "display_name": "Python 3",
   "language": "python",
   "name": "python3"
  },
  "language_info": {
   "codemirror_mode": {
    "name": "ipython",
    "version": 3
   },
   "file_extension": ".py",
   "mimetype": "text/x-python",
   "name": "python",
   "nbconvert_exporter": "python",
   "pygments_lexer": "ipython3",
   "version": "3.11.5"
  }
 },
 "nbformat": 4,
 "nbformat_minor": 2
}
